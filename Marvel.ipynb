{
 "cells": [
  {
   "cell_type": "markdown",
   "id": "302b3160",
   "metadata": {},
   "source": [
    "# A1 - Assignment - Part 1\n",
    "\n",
    "### Team A2: Lennart, Henrique, Anya, Alejandra and Kaustubh\n",
    "\n",
    "<div class=\"alert alert-success\">\n",
    "1. Provide a list of 30 Marvel characters\n",
    "</div>\n",
    "\n",
    "\n"
   ]
  },
  {
   "cell_type": "markdown",
   "id": "da3d4d89",
   "metadata": {},
   "source": [
    "<div class=\"alert alert-warning\">\n",
    "To successfully run the following code please install the following libraries:\n",
    "</div>\n",
    "\n",
    "###   requests\n",
    "    pip install requests\n",
    "###   hashlib\n",
    "    pip install hashlib\n",
    "###   datetime\n",
    "    pip install datetime\n",
    "###   pandas\n",
    "    pip install pandas"
   ]
  },
  {
   "cell_type": "code",
   "execution_count": 1,
   "id": "71995bb6",
   "metadata": {},
   "outputs": [],
   "source": [
    "# Import relevant libraries\n",
    "import requests\n",
    "import hashlib\n",
    "import datetime\n",
    "import pandas as pd\n",
    "\n",
    "# Keys and URL gateway for Marvel API\n",
    "priv_key = \"1e42b2e9b79510fb83ac6140d15fb2d429774942\"\n",
    "\n",
    "pub_key = \"ee497591e5a579893fbb0dfc4c42e44d\"\n",
    "\n",
    "urlMarv = 'https://gateway.marvel.com:443/v1/public/characters'\n",
    "\n",
    "timestamp = datetime.datetime.now().strftime('%Y-%m-%d%H:%M:%S') # generates timestamp in the format YYYY-mm-dd HH:MM:SS\n",
    "\n",
    "\n",
    "# Marvel API requires server side API calls to include md5 hash of timestamp + public key + private key \n",
    "\n",
    "def hash_params():\n",
    "    \n",
    "    hash_md5 = hashlib.md5()\n",
    "    hash_md5.update(f'{timestamp}{priv_key}{pub_key}'.encode('utf-8'))\n",
    "    hashed_params = hash_md5.hexdigest()\n",
    "\n",
    "    return hashed_params"
   ]
  },
  {
   "cell_type": "code",
   "execution_count": 2,
   "id": "71290b6b",
   "metadata": {},
   "outputs": [],
   "source": [
    "# Setting up the params and GET request to the URL\n",
    "params = {'ts': timestamp, 'apikey': pub_key, 'hash': hash_params(), 'limit': 30, 'offset': 30 };\n",
    "\n",
    "res = requests.get(urlMarv,params=params)\n",
    "\n",
    "results = res.json()"
   ]
  },
  {
   "cell_type": "markdown",
   "id": "ec418042",
   "metadata": {},
   "source": [
    "<div class=\"alert alert-success\">\n",
    "2. Retrieve the Ids for all the characters in your list (in str form)\n",
    "3. Retrieve the total number of Events available for all the characters in your list (in integer form)\n",
    "4. Retrieve the total number of Series available for all the characters in your list  (in integer form)\n",
    "5. Retrieve the total number of Comics available for all the characters in your list (in integer form)</div>"
   ]
  },
  {
   "cell_type": "code",
   "execution_count": 3,
   "id": "dd95c25f",
   "metadata": {},
   "outputs": [],
   "source": [
    "# Function to retrieve value in dataframe with 1 variable\n",
    "def retrieve_val1(val_prov, results):\n",
    "    char = []\n",
    "    for i in results['data']['results']:\n",
    "        val = (i[val_prov])\n",
    "        char.append(val)\n",
    "    return char"
   ]
  },
  {
   "cell_type": "code",
   "execution_count": 4,
   "id": "bbec4f3f",
   "metadata": {},
   "outputs": [],
   "source": [
    "# Function to retrieve value in dataframe with 2 variables\n",
    "def retrieve_val2(val_prov1, val_prov2, results):\n",
    "    char = []\n",
    "    for i in results['data']['results']:\n",
    "        val = (i[val_prov1][val_prov2])\n",
    "        char.append(val)\n",
    "    return char"
   ]
  },
  {
   "cell_type": "markdown",
   "id": "28adfec7",
   "metadata": {},
   "source": [
    "<div class=\"alert alert-success\">\n",
    "6. Retrieve the Price of the most expensive comic that the character was featured in for all the characters in your list (in float form and USD)</div>"
   ]
  },
  {
   "cell_type": "code",
   "execution_count": 5,
   "id": "736ee934",
   "metadata": {},
   "outputs": [],
   "source": [
    "# Nested loop to retrieve and sort the price of most expensive comic for a character\n",
    "\n",
    "comic_results_list = []\n",
    "highest_price = []\n",
    "\n",
    "for element in retrieve_val1('id', results):\n",
    "    characterId = element\n",
    "    base_url4 = f'https://gateway.marvel.com:443/v1/public/characters/{characterId}/comics?'\n",
    "    query_url4 = base_url4 + 'ts='+ timestamp + '&apikey=' + pub_key+ '&hash='+ hash_params()\n",
    "    response_comics4 = requests.get(query_url4)\n",
    "    comic_results = response_comics4.json()\n",
    "    comic_results_list.append(comic_results)\n",
    "\n",
    "    \n",
    "all_prices_comics = []\n",
    "\n",
    "for dicts in comic_results_list:\n",
    "    path = dicts ['data']['results']\n",
    "    for dicts2 in path:\n",
    "        path2 = dicts2 ['prices']\n",
    "        for dicts3 in path2:\n",
    "            all_prices_comics.append(dicts3['price'])\n",
    "    highest_price.append(max(all_prices_comics,default=0))\n",
    "    all_prices_comics = []"
   ]
  },
  {
   "cell_type": "markdown",
   "id": "ff57dba0",
   "metadata": {},
   "source": [
    "<div class=\"alert alert-success\">\n",
    "7.1 Store the data above in a pandas DataFrame called df containing exactly in the following columns: Character Name, Character ID, Total Available Events, Total Available Series, Total Available Comics, Price of the Most Expensive Comic.\n",
    "</div>"
   ]
  },
  {
   "cell_type": "code",
   "execution_count": 6,
   "id": "c2426fed",
   "metadata": {},
   "outputs": [],
   "source": [
    "# Creating a dataframe with the column names as per instruction\n",
    "df = pd.DataFrame(columns = [\"Character Name\", \"Character ID\", \"Total Available Events\", \"Total Available Series\", \"Total Available Comics\"])\n",
    "\n",
    "# Adding value to the dataframe per column by through functions of retrieve_val1 & retrieve_val2\n",
    "df[\"Character Name\"] = retrieve_val1('name', results)\n",
    "df[\"Character ID\"] = retrieve_val1('id', results)\n",
    "df[\"Character ID\"] = df[\"Character ID\"].astype(str)\n",
    "df[\"Total Available Events\"] = retrieve_val2('events','available', results)\n",
    "df[\"Total Available Events\"] = df[\"Total Available Events\"].astype(int)\n",
    "df[\"Total Available Series\"] = retrieve_val2('series','available', results)\n",
    "df[\"Total Available Series\"] = df[\"Total Available Series\"].astype(int)\n",
    "df[\"Total Available Comics\"] = retrieve_val2('comics','available', results)\n",
    "df[\"Total Available Comics\"] = df[\"Total Available Comics\"].astype(int)\n",
    "df[\"Price of the Most Expensive Comic\"] = highest_price\n",
    "df[\"Price of the Most Expensive Comic\"] = df[\"Price of the Most Expensive Comic\"].astype(float)"
   ]
  },
  {
   "cell_type": "markdown",
   "id": "ec55f03b",
   "metadata": {},
   "source": [
    "<div class=\"alert alert-success\">\n",
    "7.2 If a character is not featured in Events, Series or Comics the corresponding entry should be filled in with a None (of NoneType). If a character does not have a Price the corresponding entry should be filled in with a None (of NoneType).\n",
    "</div>"
   ]
  },
  {
   "cell_type": "code",
   "execution_count": 7,
   "id": "3eee1c49",
   "metadata": {},
   "outputs": [],
   "source": [
    "for i in range(len(df)): # For loop to go through the dataframe\n",
    "    if df.loc[i, \"Total Available Events\"] == 0: #If statement to check if any value is 0\n",
    "        df.loc[i, \"Total Available Events\"] = None #If True then replace 0 with None\n",
    "        \n",
    "    if df.loc[i, \"Total Available Series\"] == 0: #If statement to check if any value is 0\n",
    "        df.loc[i, \"Total Available Series\"] = None #If True then replace 0 with None\n",
    "        \n",
    "    if df.loc[i, \"Total Available Comics\"] == 0: #If statement to check if any value is 0\n",
    "        df.loc[i, \"Total Available Comics\"] = None #If True then replace 0 with None\n",
    "        \n",
    "    if df.loc[i, \"Price of the Most Expensive Comic\"] == 0: #If statement to check if any value is 0\n",
    "        df.loc[i, \"Price of the Most Expensive Comic\"] = None #If True then replace 0 with None"
   ]
  },
  {
   "cell_type": "markdown",
   "id": "f86f218b",
   "metadata": {},
   "source": [
    " <div class=\"alert alert-success\">\n",
    "8. Save df to a file called data.csv</div>"
   ]
  },
  {
   "cell_type": "code",
   "execution_count": 8,
   "id": "4e799577",
   "metadata": {},
   "outputs": [],
   "source": [
    "# Saving dataframe to CSV file\n",
    "df.to_csv(\"data.csv\", index=False)"
   ]
  },
  {
   "cell_type": "markdown",
   "id": "f808a16a",
   "metadata": {},
   "source": [
    " <div class=\"alert alert-success\">\n",
    "Some examples of the requests created in Part 2</div>"
   ]
  },
  {
   "cell_type": "code",
   "execution_count": 9,
   "id": "d56c4b5c",
   "metadata": {},
   "outputs": [
    {
     "name": "stdout",
     "output_type": "stream",
     "text": [
      "{'status': 200, 'response': [{'Character Name': 'Amiko', 'Character ID': 1009151, 'Total Available Events': 1.0, 'Total Available Series': 3.0, 'Total Available Comics': 12.0, 'Price of the Most Expensive Comic': 1.99}]}\n"
     ]
    }
   ],
   "source": [
    "response1 = requests.get('http://127.0.0.1:5000/characters', params = {'Character_ID':'1009151'}).json()\n",
    "print (response1)"
   ]
  },
  {
   "cell_type": "code",
   "execution_count": 10,
   "id": "471ba80b",
   "metadata": {},
   "outputs": [
    {
     "name": "stdout",
     "output_type": "stream",
     "text": [
      "{'status': 200, 'response': [{'Character Name': 'Superman', 'Character ID': 10987, 'Total Available Events': 12.0, 'Total Available Series': 2.0, 'Total Available Comics': 3.0, 'Price of the Most Expensive Comic': 34.0}]}\n"
     ]
    }
   ],
   "source": [
    "response2 = requests.post('http://127.0.0.1:5000/characters', params = {'Character_ID': '10987',\n",
    "                                                                     'Character_Name': 'Superman',\n",
    "                                                                     'Total_Available_Events': 12,\n",
    "                                                                     'Total_Available_Series': 2,\n",
    "                                                                     'Total_Available_Comics': 3,\n",
    "                                                                     'Price_of_the_most_expensive_comic': 34}).json()\n",
    "print(response2)"
   ]
  },
  {
   "cell_type": "code",
   "execution_count": 11,
   "id": "be8758ba",
   "metadata": {},
   "outputs": [
    {
     "name": "stdout",
     "output_type": "stream",
     "text": [
      "{'message': \"Did not attempt to load JSON data because the request Content-Type was not 'application/json'.\"}\n"
     ]
    }
   ],
   "source": [
    "response3 = requests.delete('http://127.0.0.1:5000/characters', params = {'Character_ID':'1009151'}).json()\n",
    "print (response3)"
   ]
  },
  {
   "cell_type": "code",
   "execution_count": null,
   "id": "1b4d305d",
   "metadata": {},
   "outputs": [],
   "source": []
  }
 ],
 "metadata": {
  "kernelspec": {
   "display_name": "Python 3 (ipykernel)",
   "language": "python",
   "name": "python3"
  },
  "language_info": {
   "codemirror_mode": {
    "name": "ipython",
    "version": 3
   },
   "file_extension": ".py",
   "mimetype": "text/x-python",
   "name": "python",
   "nbconvert_exporter": "python",
   "pygments_lexer": "ipython3",
   "version": "3.9.12"
  }
 },
 "nbformat": 4,
 "nbformat_minor": 5
}
